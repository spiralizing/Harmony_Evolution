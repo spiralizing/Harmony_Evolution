{
 "cells": [
  {
   "cell_type": "code",
   "execution_count": 2,
   "metadata": {},
   "outputs": [],
   "source": [
    "using DelimitedFiles\n",
    "using Distances\n",
    "using FileIO\n",
    "using LinearAlgebra\n",
    "using Random\n",
    "using Statistics\n",
    "using DataFrames\n",
    "using DataFramesMeta\n",
    "using Plots\n",
    "using PyCall\n",
    "using CSV"
   ]
  },
  {
   "cell_type": "code",
   "execution_count": 3,
   "metadata": {},
   "outputs": [
    {
     "data": {
      "text/plain": [
       "PyObject <module 'music21' from '/home/alfredo/.local/lib/python3.10/site-packages/music21/__init__.py'>"
      ]
     },
     "metadata": {},
     "output_type": "display_data"
    }
   ],
   "source": [
    "m21 = pyimport(\"music21\") #music21 manages to load successfully the musicxml files, while musicxml Julia package doesn't."
   ]
  },
  {
   "cell_type": "code",
   "execution_count": 4,
   "metadata": {},
   "outputs": [
    {
     "data": {
      "text/plain": [
       "get_stochastic_kseq (generic function with 1 method)"
      ]
     },
     "metadata": {},
     "output_type": "display_data"
    }
   ],
   "source": [
    "#functions from personal packages.\n",
    "git_path = \"/home/alfredo/Git/CoE-Testing/src/\"\n",
    "include(joinpath(git_path,\"CEGFunctions.jl\"))\n",
    "include(joinpath(git_path,\"Constr_series.jl\"))\n",
    "include(joinpath(git_path,\"IM_Functions.jl\"))\n",
    "include(joinpath(git_path,\"StochasticFunctions.jl\"))"
   ]
  },
  {
   "cell_type": "code",
   "execution_count": 5,
   "metadata": {},
   "outputs": [
    {
     "data": {
      "text/plain": [
       "get_key_ent (generic function with 1 method)"
      ]
     },
     "metadata": {},
     "output_type": "display_data"
    }
   ],
   "source": [
    "#More functions...\n",
    "function get_xml_df(piece_xml)\n",
    "    piece = get_piece_by_measure(piece_xml, csv=false)\n",
    "    df_piece = DataFrame(\n",
    "        :Measure => convert(Array{Int64,1},piece[:,1]),\n",
    "        :TimeSignature => piece[:,2],\n",
    "        :StartQuarter => piece[:,3],\n",
    "        :EndQuarter => piece[:,4],\n",
    "        :Duration => piece[:,5],\n",
    "        :Pitch => convert(Array{Int64,1},piece[:,6])\n",
    "    )\n",
    "    return df_piece\n",
    "end\n",
    "function get_csv_df(piece_csv)\n",
    "    piece = get_piece_by_measure(piece_csv, csv=true)[1]\n",
    "    num_mea = []\n",
    "    for nm in 1:length(piece)\n",
    "        push!(num_mea,[nm for i in 1:size(piece[nm],1)])\n",
    "    end\n",
    "    num_mea = vcat(num_mea...)\n",
    "    piece = vcat(piece...)\n",
    "    df_piece = DataFrame(\n",
    "        :Measure => convert(Array{Int64,1},num_mea),\n",
    "        :TimeSignature => piece[:,2],\n",
    "        :StartTime => piece[:,3],\n",
    "        :EndTime => piece[:,4],\n",
    "        :Duration => piece[:,5],\n",
    "        :Pitch => convert(Array{Int64,1},piece[:,6])\n",
    "    )\n",
    "    return df_piece\n",
    "end\n",
    "function fastuniq(v)\n",
    "  v1 = Vector{eltype(v)}()\n",
    "  if length(v)>0\n",
    "    laste = v[1]\n",
    "    push!(v1,laste)\n",
    "    for e in v\n",
    "      if e != laste\n",
    "        laste = e\n",
    "        push!(v1,laste)\n",
    "      end\n",
    "    end\n",
    "  end\n",
    "  return v1\n",
    "end\n",
    "get_entropy(probs) = mapreduce(x->  - x * log2(x), +, probs)\n",
    "function get_key_IC(list_keys)\n",
    "    prob_keys = convert(Array{Float64,1}, list_keys[:,2])\n",
    "    return - log2(prob_keys[1])\n",
    "end\n",
    "function get_distance_ces(ce1, ce2)\n",
    "    z_dif = ce2[3] - ce1[3]\n",
    "    while abs(z_dif) > h_octav / 2 #translating over z to be in the same octave (same CE region)\n",
    "        if z_dif > 0\n",
    "            ce2[3] = ce2[3] - h_octav\n",
    "        else\n",
    "            ce2[3] = ce2[3] + h_octav\n",
    "        end\n",
    "        z_dif = ce2[3] - ce1[3]\n",
    "    end\n",
    "    return round(euclidean(ce1,ce2), digits = 4)\n",
    "end\n",
    "function divide_chunk_notes(chunk, w_s, n_c)\n",
    "    st_m = minimum(chunk[:,3])\n",
    "    c_out = []\n",
    "    for i in 1:n_c\n",
    "        push!(c_out, chunk[findall(x -> st_m + w_s * (i - 1) <= x < st_m + w_s * i, chunk[:,3]),:])\n",
    "    end\n",
    "    return filter(x-> !isempty(x),c_out)\n",
    "end\n",
    "function get_distance_to_keys(c_i)\n",
    "    d_to_keys = round.(map(x-> euclidean(c_i, x), pos_all_keys), digits = 4) #computing the eclidean distance to all keys\n",
    "\n",
    "    ranking = sortperm(d_to_keys) #ranking the distances from the closest to the farthest\n",
    "\n",
    "    return [all_keys[ranking] d_to_keys[ranking] pos_all_keys[ranking]][1:12,:]\n",
    "end\n",
    "function cluster_notes(ptcs)\n",
    "    p_m12 = map(x-> mod(x,12),ptcs)\n",
    "    spi_notes = get_cfpitch(p_m12)\n",
    "    low_notes = findall(x-> x<6, spi_notes)\n",
    "    high_notes = findall(x-> x>=6, spi_notes)\n",
    "    if !isempty(high_notes) && !isempty(low_notes)\n",
    "        if length(high_notes) < length(low_notes)\n",
    "            for i in 1:length(high_notes)\n",
    "                spi_notes = shift_outlier(spi_notes, high_notes[i])\n",
    "            end\n",
    "        else\n",
    "            for i in 1:length(low_notes)\n",
    "                spi_notes = shift_outlier(spi_notes, low_notes[i])\n",
    "            end\n",
    "        end\n",
    "    end\n",
    "    dmean = Float64[]\n",
    "    oliers = Int64[]\n",
    "    new_spi = []\n",
    "    conv = false\n",
    "    while conv == false\n",
    "        dt_mean = zeros(length(spi_notes))\n",
    "        for i in 1:length(spi_notes)\n",
    "            dt_mean[i] = abs(spi_notes[i] - mean(spi_notes[1:end .!= i]))\n",
    "        end\n",
    "        d, olier = findmax(dt_mean)\n",
    "        push!(dmean, mean(dt_mean)); push!(oliers, olier); push!(new_spi, spi_notes)\n",
    "        #println(mean(dt_mean),'\\t', olier, '\\t', p_cf)\n",
    "        #println(mean(dt_mean),'\\t', olier)\n",
    "        if length(oliers) > 10 && length(unique(oliers[end-4:end])) <= 2\n",
    "            conv = true\n",
    "            break\n",
    "        end\n",
    "        spi_notes = shift_outlier(spi_notes, olier)\n",
    "    end\n",
    "    return new_spi[findmin(dmean)[2]]\n",
    "end\n",
    "function shift_outlier(notes, olier)\n",
    "    dif = notes[olier] - median(notes)\n",
    "    notes_new = copy(notes)\n",
    "    if dif > 0\n",
    "        notes_new[olier] = notes_new[olier] - 12\n",
    "    elseif dif < 0\n",
    "        notes_new[olier] = notes_new[olier] + 12\n",
    "    end\n",
    "    return notes_new\n",
    "end\n",
    "function get_center_effect(chunk_notes; r=1, h=sqrt(2/15), mod_12=false,all_keys=all_keys, pos_all_keys=pos_all_keys, sbeat_w=[[1.],[1.]], lin_w=1)    \n",
    "    ptcs = chunk_notes[:,6]\n",
    "    durs = chunk_notes[:,5]\n",
    "    pbeat = chunk_notes[:,1]\n",
    "    beat_w = ones(length(durs)) #array of the beat weights\n",
    "    for b = 1:length(sbeat_w[1])\n",
    "        loc_b = findall(x-> x==sbeat_w[1][b], pbeat) #finding all notes that start at beat sbeat_w[1][b]\n",
    "        beat_w[loc_b] .= sbeat_w[2][b] #this is the weight.\n",
    "    end\n",
    "    notas, n_we = get_local_lin_w(ptcs, lin_w) #doing the linear weight in the pitches\n",
    "    ii = vcat(map(x-> findall(y-> y==x, notas), ptcs)...)\n",
    "    #println(ptcs)\n",
    "    b_wei = n_we[ii] #getting the linear weight for every note i n the array of pitches\n",
    "    ###DO A FUNCTION FROM HERE\n",
    "    spi_ix = cluster_notes(ptcs) .+ 24\n",
    "    #TO HERE\n",
    "    spi_p = map(x-> get_pitch(x, r=r, h=h), spi_ix) #getting the location (x,y,z) for each pitch\n",
    "    t_ws = map((x,y,z)-> x*y*z, beat_w,durs, b_wei) #computing the total weights\n",
    "    cv_i = map((x,y)-> x*y, t_ws, spi_p) / sum(t_ws) #computing the location of the pitches with their relative weights\n",
    "    c_i = sum(cv_i) #finding the center of effect\n",
    "    return c_i\n",
    "end\n",
    "function get_key_ent(key_list)\n",
    "    dists = map(x-> exp(-12 * x), Float64.(key_list[:,2]))\n",
    "    key_p = dists ./ sum(dists)\n",
    "    return get_entropy(key_p)\n",
    "end"
   ]
  },
  {
   "cell_type": "code",
   "execution_count": 6,
   "metadata": {},
   "outputs": [],
   "source": [
    "xml_path = \"/home/alfredo/MusicPenn/Beethoven_HAnalysis/XMLFiles\" #xml files \n",
    "adata_path = \"/home/alfredo/MusicPenn/Beethoven_HAnalysis/AnnotationsTSV\" #annotated data\n",
    "out_path = \"/home/alfredo/MusicPenn/Beethoven_HAnalysis/KeyCallCSV\"\n",
    "xml_list = readdir(xml_path)\n",
    "adata_list = readdir(adata_path);"
   ]
  },
  {
   "cell_type": "code",
   "execution_count": 7,
   "metadata": {},
   "outputs": [
    {
     "data": {
      "text/plain": [
       "70-element Vector{String}:\n",
       " \"op127_no12\"\n",
       " \"op127_no12\"\n",
       " \"op127_no12\"\n",
       " \"op127_no12\"\n",
       " \"op130_no13\"\n",
       " \"op130_no13\"\n",
       " \"op130_no13\"\n",
       " \"op130_no13\"\n",
       " \"op130_no13\"\n",
       " \"op130_no13\"\n",
       " ⋮\n",
       " \"op59_no9\"\n",
       " \"op74_no10\"\n",
       " \"op74_no10\"\n",
       " \"op74_no10\"\n",
       " \"op74_no10\"\n",
       " \"op95_no11\"\n",
       " \"op95_no11\"\n",
       " \"op95_no11\"\n",
       " \"op95_no11\""
      ]
     },
     "metadata": {},
     "output_type": "display_data"
    }
   ],
   "source": [
    "opus_number = map(x-> join(split(x, \"_\")[1:2],\"_\"), xml_list)\n",
    "u_opus = unique(opus_number);"
   ]
  },
  {
   "cell_type": "code",
   "execution_count": 9,
   "metadata": {},
   "outputs": [
    {
     "data": {
      "text/plain": [
       "16-element Vector{Vector{Int64}}:\n",
       " [1, 2, 3, 4]\n",
       " [5, 6, 7, 8, 9, 10]\n",
       " [11, 12, 13, 14, 15, 16, 17]\n",
       " [18, 19, 20, 21, 22]\n",
       " [23, 24, 25, 26]\n",
       " [27, 28, 29, 30]\n",
       " [31, 32, 33, 34]\n",
       " [35, 36, 37, 38]\n",
       " [39, 40, 41, 42]\n",
       " [43, 44, 45, 46]\n",
       " [47, 48, 49, 50]\n",
       " [51, 52, 53, 54]\n",
       " [55, 56, 57, 58]\n",
       " [59, 60, 61, 62]\n",
       " [63, 64, 65, 66]\n",
       " [67, 68, 69, 70]"
      ]
     },
     "metadata": {},
     "output_type": "display_data"
    }
   ],
   "source": [
    "ix_all = [findall(x-> occursin(u_opus[i], x), adata_list) for i in 1:length(u_opus)]"
   ]
  },
  {
   "cell_type": "code",
   "execution_count": 50,
   "metadata": {},
   "outputs": [
    {
     "name": "stdout",
     "output_type": "stream",
     "text": [
      "File op127_no12_mov1.musicxml DONE!\n"
     ]
    },
    {
     "name": "stdout",
     "output_type": "stream",
     "text": [
      "File op127_no12_mov2.musicxml DONE!\n"
     ]
    },
    {
     "name": "stdout",
     "output_type": "stream",
     "text": [
      "File op127_no12_mov3.musicxml DONE!\n"
     ]
    },
    {
     "name": "stdout",
     "output_type": "stream",
     "text": [
      "File op127_no12_mov4.musicxml DONE!\n"
     ]
    },
    {
     "name": "stdout",
     "output_type": "stream",
     "text": [
      "File op130_no13_mov1.musicxml DONE!\n"
     ]
    },
    {
     "name": "stdout",
     "output_type": "stream",
     "text": [
      "File op130_no13_mov2.musicxml DONE!\n"
     ]
    },
    {
     "name": "stdout",
     "output_type": "stream",
     "text": [
      "File op130_no13_mov3.musicxml DONE!\n"
     ]
    },
    {
     "name": "stdout",
     "output_type": "stream",
     "text": [
      "File op130_no13_mov4.musicxml DONE!\n"
     ]
    },
    {
     "name": "stdout",
     "output_type": "stream",
     "text": [
      "File op130_no13_mov5.musicxml DONE!\n"
     ]
    },
    {
     "name": "stdout",
     "output_type": "stream",
     "text": [
      "File op130_no13_mov6.musicxml DONE!\n"
     ]
    },
    {
     "name": "stdout",
     "output_type": "stream",
     "text": [
      "File op131_no14_mov1.musicxml DONE!\n"
     ]
    },
    {
     "name": "stdout",
     "output_type": "stream",
     "text": [
      "File op131_no14_mov2.musicxml DONE!\n"
     ]
    },
    {
     "name": "stdout",
     "output_type": "stream",
     "text": [
      "File op131_no14_mov3.musicxml DONE!\n"
     ]
    },
    {
     "name": "stdout",
     "output_type": "stream",
     "text": [
      "File op131_no14_mov4.musicxml DONE!\n"
     ]
    },
    {
     "name": "stdout",
     "output_type": "stream",
     "text": [
      "File op131_no14_mov5.musicxml DONE!\n"
     ]
    },
    {
     "name": "stdout",
     "output_type": "stream",
     "text": [
      "File op131_no14_mov6.musicxml DONE!\n"
     ]
    },
    {
     "name": "stdout",
     "output_type": "stream",
     "text": [
      "File op131_no14_mov7.musicxml DONE!\n"
     ]
    },
    {
     "name": "stdout",
     "output_type": "stream",
     "text": [
      "File op132_no15_mov1.musicxml DONE!\n"
     ]
    },
    {
     "name": "stdout",
     "output_type": "stream",
     "text": [
      "File op132_no15_mov2.musicxml DONE!\n"
     ]
    },
    {
     "name": "stdout",
     "output_type": "stream",
     "text": [
      "File op132_no15_mov3.musicxml DONE!\n"
     ]
    },
    {
     "name": "stdout",
     "output_type": "stream",
     "text": [
      "File op132_no15_mov4.musicxml DONE!\n"
     ]
    },
    {
     "name": "stdout",
     "output_type": "stream",
     "text": [
      "File op132_no15_mov5.musicxml DONE!\n"
     ]
    },
    {
     "name": "stdout",
     "output_type": "stream",
     "text": [
      "File op135_no16_mov1.musicxml DONE!\n"
     ]
    },
    {
     "name": "stdout",
     "output_type": "stream",
     "text": [
      "File op135_no16_mov2.musicxml DONE!\n"
     ]
    },
    {
     "name": "stdout",
     "output_type": "stream",
     "text": [
      "File op135_no16_mov3.musicxml DONE!\n"
     ]
    },
    {
     "name": "stdout",
     "output_type": "stream",
     "text": [
      "File op135_no16_mov4.musicxml DONE!\n"
     ]
    },
    {
     "name": "stdout",
     "output_type": "stream",
     "text": [
      "File op18_no1_mov1.musicxml DONE!\n"
     ]
    },
    {
     "name": "stdout",
     "output_type": "stream",
     "text": [
      "File op18_no1_mov2.musicxml DONE!\n"
     ]
    },
    {
     "name": "stdout",
     "output_type": "stream",
     "text": [
      "File op18_no1_mov3.musicxml DONE!\n"
     ]
    },
    {
     "name": "stdout",
     "output_type": "stream",
     "text": [
      "File op18_no1_mov4.musicxml DONE!\n"
     ]
    },
    {
     "name": "stdout",
     "output_type": "stream",
     "text": [
      "File op18_no2_mov1.musicxml DONE!\n"
     ]
    },
    {
     "name": "stdout",
     "output_type": "stream",
     "text": [
      "File op18_no2_mov2.musicxml DONE!\n"
     ]
    },
    {
     "name": "stdout",
     "output_type": "stream",
     "text": [
      "File op18_no2_mov3.musicxml DONE!\n"
     ]
    },
    {
     "name": "stdout",
     "output_type": "stream",
     "text": [
      "File op18_no2_mov4.musicxml DONE!\n"
     ]
    },
    {
     "name": "stdout",
     "output_type": "stream",
     "text": [
      "File op18_no3_mov1.musicxml DONE!\n"
     ]
    },
    {
     "name": "stdout",
     "output_type": "stream",
     "text": [
      "File op18_no3_mov2.musicxml DONE!\n"
     ]
    },
    {
     "name": "stdout",
     "output_type": "stream",
     "text": [
      "File op18_no3_mov3.musicxml DONE!\n"
     ]
    },
    {
     "name": "stdout",
     "output_type": "stream",
     "text": [
      "File op18_no3_mov4.musicxml DONE!\n"
     ]
    },
    {
     "name": "stdout",
     "output_type": "stream",
     "text": [
      "File op18_no4_mov1.musicxml DONE!\n"
     ]
    },
    {
     "name": "stdout",
     "output_type": "stream",
     "text": [
      "File op18_no4_mov2.musicxml DONE!\n"
     ]
    },
    {
     "name": "stdout",
     "output_type": "stream",
     "text": [
      "File op18_no4_mov3.musicxml DONE!\n"
     ]
    },
    {
     "name": "stdout",
     "output_type": "stream",
     "text": [
      "File op18_no4_mov4.musicxml DONE!\n"
     ]
    },
    {
     "name": "stdout",
     "output_type": "stream",
     "text": [
      "File op18_no5_mov1.musicxml DONE!\n"
     ]
    },
    {
     "name": "stdout",
     "output_type": "stream",
     "text": [
      "File op18_no5_mov2.musicxml DONE!\n"
     ]
    },
    {
     "name": "stdout",
     "output_type": "stream",
     "text": [
      "File op18_no5_mov3.musicxml DONE!\n"
     ]
    },
    {
     "name": "stdout",
     "output_type": "stream",
     "text": [
      "File op18_no5_mov4.musicxml DONE!\n"
     ]
    },
    {
     "name": "stdout",
     "output_type": "stream",
     "text": [
      "File op18_no6_mov1.musicxml DONE!\n"
     ]
    },
    {
     "name": "stdout",
     "output_type": "stream",
     "text": [
      "File op18_no6_mov2.musicxml DONE!\n"
     ]
    },
    {
     "name": "stdout",
     "output_type": "stream",
     "text": [
      "File op18_no6_mov3.musicxml DONE!\n"
     ]
    },
    {
     "name": "stdout",
     "output_type": "stream",
     "text": [
      "File op18_no6_mov4.musicxml DONE!\n"
     ]
    },
    {
     "name": "stdout",
     "output_type": "stream",
     "text": [
      "File op59_no7_mov1.musicxml DONE!\n"
     ]
    },
    {
     "name": "stdout",
     "output_type": "stream",
     "text": [
      "File op59_no7_mov2.musicxml DONE!\n"
     ]
    },
    {
     "name": "stdout",
     "output_type": "stream",
     "text": [
      "File op59_no7_mov3.musicxml DONE!\n"
     ]
    },
    {
     "name": "stdout",
     "output_type": "stream",
     "text": [
      "File op59_no7_mov4.musicxml DONE!\n"
     ]
    },
    {
     "name": "stdout",
     "output_type": "stream",
     "text": [
      "File op59_no8_mov1.musicxml DONE!\n"
     ]
    },
    {
     "name": "stdout",
     "output_type": "stream",
     "text": [
      "File op59_no8_mov2.musicxml DONE!\n"
     ]
    },
    {
     "name": "stdout",
     "output_type": "stream",
     "text": [
      "File op59_no8_mov3.musicxml DONE!\n"
     ]
    },
    {
     "name": "stdout",
     "output_type": "stream",
     "text": [
      "File op59_no8_mov4.musicxml DONE!\n"
     ]
    },
    {
     "name": "stdout",
     "output_type": "stream",
     "text": [
      "File op59_no9_mov1.musicxml DONE!\n"
     ]
    },
    {
     "name": "stdout",
     "output_type": "stream",
     "text": [
      "File op59_no9_mov2.musicxml DONE!\n"
     ]
    },
    {
     "name": "stdout",
     "output_type": "stream",
     "text": [
      "File op59_no9_mov3.musicxml DONE!\n"
     ]
    },
    {
     "name": "stdout",
     "output_type": "stream",
     "text": [
      "File op59_no9_mov4.musicxml DONE!\n"
     ]
    },
    {
     "name": "stdout",
     "output_type": "stream",
     "text": [
      "File op74_no10_mov1.musicxml DONE!\n"
     ]
    },
    {
     "name": "stdout",
     "output_type": "stream",
     "text": [
      "File op74_no10_mov2.musicxml DONE!\n"
     ]
    },
    {
     "name": "stdout",
     "output_type": "stream",
     "text": [
      "File op74_no10_mov3.musicxml DONE!\n"
     ]
    },
    {
     "name": "stdout",
     "output_type": "stream",
     "text": [
      "File op74_no10_mov4.musicxml DONE!\n"
     ]
    },
    {
     "name": "stdout",
     "output_type": "stream",
     "text": [
      "File op95_no11_mov1.musicxml DONE!\n"
     ]
    },
    {
     "name": "stdout",
     "output_type": "stream",
     "text": [
      "File op95_no11_mov2.musicxml DONE!\n"
     ]
    },
    {
     "name": "stdout",
     "output_type": "stream",
     "text": [
      "File op95_no11_mov3.musicxml DONE!\n"
     ]
    },
    {
     "name": "stdout",
     "output_type": "stream",
     "text": [
      "File op95_no11_mov4.musicxml DONE!\n"
     ]
    }
   ],
   "source": [
    "\n",
    "for xml_i in 1:length(xml_list)\n",
    "    local fh_kseq\n",
    "    #loading csv from midi\n",
    "    piece_xml = m21.converter.parse(joinpath(xml_path,xml_list[xml_i]))\n",
    "\n",
    "\n",
    "    #loading hand-annotation data\n",
    "    piece_ann = CSV.read(joinpath(adata_path,adata_list[xml_i]), DataFrame) \n",
    "    df_piece =  get_xml_df(piece_xml)\n",
    "\n",
    "\n",
    "    separated_measures = groupby(df_piece, :Measure)\n",
    "\n",
    "\n",
    "    kseq = Any[]\n",
    "    n_bar = Int[]\n",
    "    unc_seq = Float64[]\n",
    "    for m in separated_measures\n",
    "        out = get_distance_to_keys(get_center_effect(Matrix(m)))\n",
    "        push!(n_bar, m[1,:Measure])\n",
    "        push!(kseq, out[1,1])\n",
    "        push!(unc_seq, round(get_key_ent(out),digits=4))\n",
    "    end\n",
    "    #fundamental key\n",
    "    fun_key = get_rank_freq(kseq)[1,1] #Getting the most repeated key (expected to be the global key)\n",
    "    #fun_key = piece_ann[1,:global_key]\n",
    "    try\n",
    "        fh_kseq = funhar_seq(kseq, fun_key) #mapping the key sequence to a functional harmony sequence, taking as reference the global key\n",
    "    catch\n",
    "        try\n",
    "            new_funkey = key_translate[fun_key]\n",
    "            fh_kseq = funhar_seq(kseq, new_funkey)\n",
    "        catch\n",
    "            fun_key = get_rank_freq(kseq)[1,1]\n",
    "            fh_kseq = funhar_seq(kseq, fun_key)\n",
    "        end\n",
    "    end\n",
    "    nmea = piece_ann.measure\n",
    "    fh_out = []\n",
    "    unc_out = []\n",
    "    kseq_out = []\n",
    "    for n_m in nmea\n",
    "        loc = findfirst(x-> x==n_m, n_bar)\n",
    "        if !isnothing(loc)\n",
    "            push!(fh_out, fh_kseq[loc])\n",
    "            push!(unc_out, unc_seq[loc])\n",
    "            push!(kseq_out, kseq[loc])\n",
    "        else\n",
    "            push!(fh_out, \"N/A\")\n",
    "            push!(unc_out, \"N/A\")\n",
    "            push!(kseq_out, \"N/A\")\n",
    "        end\n",
    "    end\n",
    "\n",
    "    g_key = [get_rank_freq(kseq)[1,1] for i in length(fh_out)]\n",
    "    #construct the output dataframe\n",
    "    df_out = DataFrame(\n",
    "        :Measure => piece_ann[!,:measure],\n",
    "        :Global_Key => piece_ann[!,:global_key],\n",
    "        :Local_Key => piece_ann[!,:local_key],\n",
    "        :Chord => piece_ann[!,:chord],\n",
    "        :Relative_Numeral => piece_ann[!,:numeral],\n",
    "        :CoE_KeyCall => fh_out,\n",
    "        :CoE_Uncert => unc_out,\n",
    "        :CoE_KeySequence => kseq_out,\n",
    "        :CoE_GlobalKey => g_key\n",
    "    )\n",
    "    #exporting...\n",
    "    xml_file = xml_list[xml_i]\n",
    "    name_out = \"CoEKeyCallNEW-$(join([split(xml_file,\".\")[1] \"csv\"],\".\"))\"\n",
    "    CSV.write(joinpath(out_path,name_out), df_out, header=true)\n",
    "    println(\"File $(xml_file) DONE!\")\n",
    "end"
   ]
  },
  {
   "cell_type": "code",
   "execution_count": 51,
   "metadata": {},
   "outputs": [],
   "source": [
    "csv_files = readdir(out_path)\n",
    "compare_list = csv_files[findall(x-> occursin(r\"NEW-\",x),csv_files)];"
   ]
  },
  {
   "cell_type": "code",
   "execution_count": 52,
   "metadata": {},
   "outputs": [],
   "source": [
    "\n",
    "unc_wrong = []\n",
    "fwrongs = []\n",
    "mwrongs = []\n",
    "good_guess = []\n",
    "for f in 1:length(compare_list)\n",
    "    bars = 0\n",
    "    g_guess = 0\n",
    "    df_ann = CSV.read(joinpath(out_path,compare_list[f]),DataFrame)\n",
    "    \n",
    "    g_key = get_rank_freq(df_ann[!,:Local_Key])[1,1]\n",
    "    ann_meas = groupby(df_ann[df_ann.Local_Key .==g_key,:],:Measure)\n",
    "    #ann_meas = groupby(df_ann, :Measure)\n",
    "    \n",
    "    tn_m = length(ann_meas)\n",
    "    for i in 1:tn_m\n",
    "        \n",
    "        ann_keys = vcat(ann_meas[i][:,:Local_Key]..., ann_meas[i][:,:Relative_Numeral]..., ann_meas[i][:,:Chord]...)\n",
    "        #ann_keys = vcat(ann_meas[i][:,:Relative_Numeral]...)\n",
    "        coe_key = ann_meas[i][1,:CoE_KeyCall]\n",
    "        if !isempty(findall(x-> x==coe_key, coalesce.(ann_keys,\"N/A\")))\n",
    "            g_guess += 1\n",
    "        else\n",
    "            push!(unc_wrong, ann_meas[i][1,:CoE_Uncert])\n",
    "            push!(fwrongs, f)\n",
    "            push!(mwrongs, i)\n",
    "        end\n",
    "        bars +=1\n",
    "    end\n",
    "    push!(good_guess, g_guess / bars)\n",
    "end"
   ]
  },
  {
   "cell_type": "code",
   "execution_count": 64,
   "metadata": {},
   "outputs": [
    {
     "name": "stdout",
     "output_type": "stream",
     "text": [
      "the median accuracy for all the movements is: 67.74%\n"
     ]
    }
   ],
   "source": [
    "println(\"the median accuracy for all the movements is: \", round(median(good_guess)*100,digits=3) ,\"%\")"
   ]
  },
  {
   "cell_type": "code",
   "execution_count": null,
   "metadata": {},
   "outputs": [],
   "source": []
  }
 ],
 "metadata": {
  "kernelspec": {
   "display_name": "Julia 1.8.0",
   "language": "julia",
   "name": "julia-1.8"
  },
  "language_info": {
   "file_extension": ".jl",
   "mimetype": "application/julia",
   "name": "julia",
   "version": "1.8.0"
  }
 },
 "nbformat": 4,
 "nbformat_minor": 2
}
