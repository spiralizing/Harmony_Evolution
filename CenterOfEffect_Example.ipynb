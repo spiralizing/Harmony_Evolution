{
 "cells": [
  {
   "cell_type": "code",
   "execution_count": 18,
   "metadata": {},
   "outputs": [],
   "source": [
    "using CSV\n",
    "using DataFrames\n",
    "using DelimitedFiles\n",
    "using Distances\n",
    "using FileIO\n",
    "using LinearAlgebra\n",
    "using PyCall\n",
    "using Random\n",
    "using Statistics"
   ]
  },
  {
   "cell_type": "code",
   "execution_count": 2,
   "metadata": {},
   "outputs": [
    {
     "data": {
      "text/plain": [
       "get_stochastic_kseq (generic function with 1 method)"
      ]
     },
     "metadata": {},
     "output_type": "display_data"
    }
   ],
   "source": [
    "#functions from personal packages.\n",
    "git_path = \"/home/alfredo/Git/Harmony_Evolution/src\"\n",
    "include(joinpath(git_path, \"CEGFunctions.jl\"))\n",
    "include(joinpath(git_path, \"Constr_series.jl\"))\n",
    "include(joinpath(git_path, \"IM_Functions.jl\"))\n",
    "include(joinpath(git_path, \"StochasticFunctions.jl\"))"
   ]
  },
  {
   "cell_type": "code",
   "execution_count": 9,
   "metadata": {},
   "outputs": [
    {
     "data": {
      "text/plain": [
       "13285×8 Matrix{Any}:\n",
       "  0       0  \" Header\"              …    11              384      \"\"   \"\"\n",
       "  1       0  \" Start_track\"                \"\"               \"\"    \"\"   \"\"\n",
       "  1       0  \" Title_t\"                    \"\"               \"\"    \"\"   \"\"\n",
       "  1       0  \" SMPTE_offset\"              0                3     0    0\n",
       "  1       0  \" Sequencer_specific\"        0                0    65     \"\"\n",
       "  1       0  \" Time_signature\"      …     2               24     8     \"\"\n",
       "  1       0  \" Key_signature\"              \" \\\"major\\\"\"     \"\"    \"\"   \"\"\n",
       "  1       0  \" Tempo\"                      \"\"               \"\"    \"\"   \"\"\n",
       "  1    1536  \" Tempo\"                      \"\"               \"\"    \"\"   \"\"\n",
       "  1    6968  \" Tempo\"                      \"\"               \"\"    \"\"   \"\"\n",
       "  ⋮                                 ⋱                      ⋮          \n",
       " 11  109612  \" Note_on_c\"                76              100      \"\"   \"\"\n",
       " 11  109616  \" Pitch_bend_c\"              0                 \"\"    \"\"   \"\"\n",
       " 11  109656  \" Control_c\"                 7               56      \"\"   \"\"\n",
       " 11  109664  \" Pitch_bend_c\"           3170                 \"\"    \"\"   \"\"\n",
       " 11  109680  \" Pitch_bend_c\"        …  7398                 \"\"    \"\"   \"\"\n",
       " 11  109696  \" Pitch_bend_c\"           8192                 \"\"    \"\"   \"\"\n",
       " 11  109748  \" Note_on_c\"                76                0      \"\"   \"\"\n",
       " 11  109748  \" End_track\"                  \"\"               \"\"    \"\"   \"\"\n",
       "  0       0  \" End_of_file\"                \"\"               \"\"    \"\"   \"\""
      ]
     },
     "metadata": {},
     "output_type": "display_data"
    }
   ],
   "source": [
    "csv_file = readdlm(joinpath(git_path,\"../example_pieces/HeyJoe.csv\"), ',')"
   ]
  },
  {
   "cell_type": "code",
   "execution_count": 13,
   "metadata": {},
   "outputs": [
    {
     "name": "stdout",
     "output_type": "stream",
     "text": [
      "WARNING!!! \n",
      " THE FRACTION OF NOTES FALLING OUTSIDE THE MIDI CLOCK IS: 0.20113460546673542\n"
     ]
    },
    {
     "data": {
      "text/html": [
       "<div><div style = \"float: left;\"><span>5817×6 DataFrame</span></div><div style = \"float: right;\"><span style = \"font-style: italic;\">5792 rows omitted</span></div><div style = \"clear: both;\"></div></div><div class = \"data-frame\" style = \"overflow-x: scroll;\"><table class = \"data-frame\" style = \"margin-bottom: 6px;\"><thead><tr class = \"header\"><th class = \"rowNumber\" style = \"font-weight: bold; text-align: right;\">Row</th><th style = \"text-align: left;\">Measure</th><th style = \"text-align: left;\">TimeSignature</th><th style = \"text-align: left;\">StartTime</th><th style = \"text-align: left;\">EndTime</th><th style = \"text-align: left;\">Duration</th><th style = \"text-align: left;\">Pitch</th></tr><tr class = \"subheader headerLastRow\"><th class = \"rowNumber\" style = \"font-weight: bold; text-align: right;\"></th><th title = \"Int64\" style = \"text-align: left;\">Int64</th><th title = \"Any\" style = \"text-align: left;\">Any</th><th title = \"Any\" style = \"text-align: left;\">Any</th><th title = \"Any\" style = \"text-align: left;\">Any</th><th title = \"Any\" style = \"text-align: left;\">Any</th><th title = \"Int64\" style = \"text-align: left;\">Int64</th></tr></thead><tbody><tr><td class = \"rowNumber\" style = \"font-weight: bold; text-align: right;\">1</td><td style = \"text-align: right;\">1</td><td style = \"text-align: left;\">4/4</td><td style = \"text-align: left;\">1536</td><td style = \"text-align: left;\">1552</td><td style = \"text-align: left;\">16</td><td style = \"text-align: right;\">42</td></tr><tr><td class = \"rowNumber\" style = \"font-weight: bold; text-align: right;\">2</td><td style = \"text-align: right;\">1</td><td style = \"text-align: left;\">4/4</td><td style = \"text-align: left;\">1728</td><td style = \"text-align: left;\">1744</td><td style = \"text-align: left;\">16</td><td style = \"text-align: right;\">42</td></tr><tr><td class = \"rowNumber\" style = \"font-weight: bold; text-align: right;\">3</td><td style = \"text-align: right;\">1</td><td style = \"text-align: left;\">4/4</td><td style = \"text-align: left;\">1824</td><td style = \"text-align: left;\">1840</td><td style = \"text-align: left;\">16</td><td style = \"text-align: right;\">42</td></tr><tr><td class = \"rowNumber\" style = \"font-weight: bold; text-align: right;\">4</td><td style = \"text-align: right;\">1</td><td style = \"text-align: left;\">4/4</td><td style = \"text-align: left;\">1920</td><td style = \"text-align: left;\">1936</td><td style = \"text-align: left;\">16</td><td style = \"text-align: right;\">46</td></tr><tr><td class = \"rowNumber\" style = \"font-weight: bold; text-align: right;\">5</td><td style = \"text-align: right;\">1</td><td style = \"text-align: left;\">4/4</td><td style = \"text-align: left;\">2112</td><td style = \"text-align: left;\">2128</td><td style = \"text-align: left;\">16</td><td style = \"text-align: right;\">42</td></tr><tr><td class = \"rowNumber\" style = \"font-weight: bold; text-align: right;\">6</td><td style = \"text-align: right;\">1</td><td style = \"text-align: left;\">4/4</td><td style = \"text-align: left;\">2304</td><td style = \"text-align: left;\">2320</td><td style = \"text-align: left;\">16</td><td style = \"text-align: right;\">42</td></tr><tr><td class = \"rowNumber\" style = \"font-weight: bold; text-align: right;\">7</td><td style = \"text-align: right;\">1</td><td style = \"text-align: left;\">4/4</td><td style = \"text-align: left;\">2312</td><td style = \"text-align: left;\">2496</td><td style = \"text-align: left;\">184</td><td style = \"text-align: right;\">62</td></tr><tr><td class = \"rowNumber\" style = \"font-weight: bold; text-align: right;\">8</td><td style = \"text-align: right;\">1</td><td style = \"text-align: left;\">4/4</td><td style = \"text-align: left;\">2312</td><td style = \"text-align: left;\">2696</td><td style = \"text-align: left;\">384</td><td style = \"text-align: right;\">64</td></tr><tr><td class = \"rowNumber\" style = \"font-weight: bold; text-align: right;\">9</td><td style = \"text-align: right;\">1</td><td style = \"text-align: left;\">4/4</td><td style = \"text-align: left;\">2516</td><td style = \"text-align: left;\">2640</td><td style = \"text-align: left;\">124</td><td style = \"text-align: right;\">62</td></tr><tr><td class = \"rowNumber\" style = \"font-weight: bold; text-align: right;\">10</td><td style = \"text-align: right;\">1</td><td style = \"text-align: left;\">4/4</td><td style = \"text-align: left;\">2660</td><td style = \"text-align: left;\">2892</td><td style = \"text-align: left;\">232</td><td style = \"text-align: right;\">58</td></tr><tr><td class = \"rowNumber\" style = \"font-weight: bold; text-align: right;\">11</td><td style = \"text-align: right;\">1</td><td style = \"text-align: left;\">4/4</td><td style = \"text-align: left;\">2688</td><td style = \"text-align: left;\">2704</td><td style = \"text-align: left;\">16</td><td style = \"text-align: right;\">42</td></tr><tr><td class = \"rowNumber\" style = \"font-weight: bold; text-align: right;\">12</td><td style = \"text-align: right;\">1</td><td style = \"text-align: left;\">4/4</td><td style = \"text-align: left;\">2900</td><td style = \"text-align: left;\">3060</td><td style = \"text-align: left;\">160</td><td style = \"text-align: right;\">51</td></tr><tr><td class = \"rowNumber\" style = \"font-weight: bold; text-align: right;\">13</td><td style = \"text-align: right;\">2</td><td style = \"text-align: left;\">4/4</td><td style = \"text-align: left;\">3072</td><td style = \"text-align: left;\">3088</td><td style = \"text-align: left;\">16</td><td style = \"text-align: right;\">42</td></tr><tr><td style = \"text-align: right;\">&vellip;</td><td style = \"text-align: right;\">&vellip;</td><td style = \"text-align: right;\">&vellip;</td><td style = \"text-align: right;\">&vellip;</td><td style = \"text-align: right;\">&vellip;</td><td style = \"text-align: right;\">&vellip;</td><td style = \"text-align: right;\">&vellip;</td></tr><tr><td class = \"rowNumber\" style = \"font-weight: bold; text-align: right;\">5806</td><td style = \"text-align: right;\">74</td><td style = \"text-align: left;\">4/4</td><td style = \"text-align: left;\">113692</td><td style = \"text-align: left;\">115152</td><td style = \"text-align: left;\">1460</td><td style = \"text-align: right;\">59</td></tr><tr><td class = \"rowNumber\" style = \"font-weight: bold; text-align: right;\">5807</td><td style = \"text-align: right;\">74</td><td style = \"text-align: left;\">4/4</td><td style = \"text-align: left;\">113704</td><td style = \"text-align: left;\">115152</td><td style = \"text-align: left;\">1448</td><td style = \"text-align: right;\">64</td></tr><tr><td class = \"rowNumber\" style = \"font-weight: bold; text-align: right;\">5808</td><td style = \"text-align: right;\">74</td><td style = \"text-align: left;\">4/4</td><td style = \"text-align: left;\">113784</td><td style = \"text-align: left;\">113944</td><td style = \"text-align: left;\">160</td><td style = \"text-align: right;\">64</td></tr><tr><td class = \"rowNumber\" style = \"font-weight: bold; text-align: right;\">5809</td><td style = \"text-align: right;\">74</td><td style = \"text-align: left;\">4/4</td><td style = \"text-align: left;\">113888</td><td style = \"text-align: left;\">113904</td><td style = \"text-align: left;\">16</td><td style = \"text-align: right;\">58</td></tr><tr><td class = \"rowNumber\" style = \"font-weight: bold; text-align: right;\">5810</td><td style = \"text-align: right;\">74</td><td style = \"text-align: left;\">4/4</td><td style = \"text-align: left;\">113904</td><td style = \"text-align: left;\">114048</td><td style = \"text-align: left;\">144</td><td style = \"text-align: right;\">57</td></tr><tr><td class = \"rowNumber\" style = \"font-weight: bold; text-align: right;\">5811</td><td style = \"text-align: right;\">74</td><td style = \"text-align: left;\">4/4</td><td style = \"text-align: left;\">114048</td><td style = \"text-align: left;\">114176</td><td style = \"text-align: left;\">128</td><td style = \"text-align: right;\">52</td></tr><tr><td class = \"rowNumber\" style = \"font-weight: bold; text-align: right;\">5812</td><td style = \"text-align: right;\">74</td><td style = \"text-align: left;\">4/4</td><td style = \"text-align: left;\">114176</td><td style = \"text-align: left;\">114304</td><td style = \"text-align: left;\">128</td><td style = \"text-align: right;\">50</td></tr><tr><td class = \"rowNumber\" style = \"font-weight: bold; text-align: right;\">5813</td><td style = \"text-align: right;\">74</td><td style = \"text-align: left;\">4/4</td><td style = \"text-align: left;\">114304</td><td style = \"text-align: left;\">114932</td><td style = \"text-align: left;\">628</td><td style = \"text-align: right;\">52</td></tr><tr><td class = \"rowNumber\" style = \"font-weight: bold; text-align: right;\">5814</td><td style = \"text-align: right;\">74</td><td style = \"text-align: left;\">4/4</td><td style = \"text-align: left;\">115104</td><td style = \"text-align: left;\">115120</td><td style = \"text-align: left;\">16</td><td style = \"text-align: right;\">45</td></tr><tr><td class = \"rowNumber\" style = \"font-weight: bold; text-align: right;\">5815</td><td style = \"text-align: right;\">74</td><td style = \"text-align: left;\">4/4</td><td style = \"text-align: left;\">115152</td><td style = \"text-align: left;\">115168</td><td style = \"text-align: left;\">16</td><td style = \"text-align: right;\">41</td></tr><tr><td class = \"rowNumber\" style = \"font-weight: bold; text-align: right;\">5816</td><td style = \"text-align: right;\">75</td><td style = \"text-align: left;\">4/4</td><td style = \"text-align: left;\">115200</td><td style = \"text-align: left;\">115216</td><td style = \"text-align: left;\">16</td><td style = \"text-align: right;\">35</td></tr><tr><td class = \"rowNumber\" style = \"font-weight: bold; text-align: right;\">5817</td><td style = \"text-align: right;\">75</td><td style = \"text-align: left;\">4/4</td><td style = \"text-align: left;\">115200</td><td style = \"text-align: left;\">115216</td><td style = \"text-align: left;\">16</td><td style = \"text-align: right;\">49</td></tr></tbody></table></div>"
      ],
      "text/latex": [
       "\\begin{tabular}{r|cccccc}\n",
       "\t& Measure & TimeSignature & StartTime & EndTime & Duration & Pitch\\\\\n",
       "\t\\hline\n",
       "\t& Int64 & Any & Any & Any & Any & Int64\\\\\n",
       "\t\\hline\n",
       "\t1 & 1 & 4/4 & 1536 & 1552 & 16 & 42 \\\\\n",
       "\t2 & 1 & 4/4 & 1728 & 1744 & 16 & 42 \\\\\n",
       "\t3 & 1 & 4/4 & 1824 & 1840 & 16 & 42 \\\\\n",
       "\t4 & 1 & 4/4 & 1920 & 1936 & 16 & 46 \\\\\n",
       "\t5 & 1 & 4/4 & 2112 & 2128 & 16 & 42 \\\\\n",
       "\t6 & 1 & 4/4 & 2304 & 2320 & 16 & 42 \\\\\n",
       "\t7 & 1 & 4/4 & 2312 & 2496 & 184 & 62 \\\\\n",
       "\t8 & 1 & 4/4 & 2312 & 2696 & 384 & 64 \\\\\n",
       "\t9 & 1 & 4/4 & 2516 & 2640 & 124 & 62 \\\\\n",
       "\t10 & 1 & 4/4 & 2660 & 2892 & 232 & 58 \\\\\n",
       "\t11 & 1 & 4/4 & 2688 & 2704 & 16 & 42 \\\\\n",
       "\t12 & 1 & 4/4 & 2900 & 3060 & 160 & 51 \\\\\n",
       "\t13 & 2 & 4/4 & 3072 & 3088 & 16 & 42 \\\\\n",
       "\t14 & 2 & 4/4 & 3076 & 3636 & 560 & 40 \\\\\n",
       "\t15 & 2 & 4/4 & 3076 & 3636 & 560 & 47 \\\\\n",
       "\t16 & 2 & 4/4 & 3264 & 3280 & 16 & 42 \\\\\n",
       "\t17 & 2 & 4/4 & 3360 & 3376 & 16 & 42 \\\\\n",
       "\t18 & 2 & 4/4 & 3456 & 3800 & 344 & 59 \\\\\n",
       "\t19 & 2 & 4/4 & 3456 & 3472 & 16 & 46 \\\\\n",
       "\t20 & 2 & 4/4 & 3464 & 3808 & 344 & 64 \\\\\n",
       "\t21 & 2 & 4/4 & 3472 & 3816 & 344 & 64 \\\\\n",
       "\t22 & 2 & 4/4 & 3648 & 3664 & 16 & 42 \\\\\n",
       "\t23 & 2 & 4/4 & 3664 & 3832 & 168 & 40 \\\\\n",
       "\t24 & 2 & 4/4 & 3664 & 3832 & 168 & 47 \\\\\n",
       "\t$\\dots$ & $\\dots$ & $\\dots$ & $\\dots$ & $\\dots$ & $\\dots$ & $\\dots$ \\\\\n",
       "\\end{tabular}\n"
      ],
      "text/plain": [
       "\u001b[1m5817×6 DataFrame\u001b[0m\n",
       "\u001b[1m  Row \u001b[0m│\u001b[1m Measure \u001b[0m\u001b[1m TimeSignature \u001b[0m\u001b[1m StartTime \u001b[0m\u001b[1m EndTime \u001b[0m\u001b[1m Duration \u001b[0m\u001b[1m Pitch \u001b[0m\n",
       "      │\u001b[90m Int64   \u001b[0m\u001b[90m Any           \u001b[0m\u001b[90m Any       \u001b[0m\u001b[90m Any     \u001b[0m\u001b[90m Any      \u001b[0m\u001b[90m Int64 \u001b[0m\n",
       "──────┼─────────────────────────────────────────────────────────────\n",
       "    1 │       1  4/4            1536       1552     16           42\n",
       "    2 │       1  4/4            1728       1744     16           42\n",
       "    3 │       1  4/4            1824       1840     16           42\n",
       "    4 │       1  4/4            1920       1936     16           46\n",
       "    5 │       1  4/4            2112       2128     16           42\n",
       "    6 │       1  4/4            2304       2320     16           42\n",
       "    7 │       1  4/4            2312       2496     184          62\n",
       "    8 │       1  4/4            2312       2696     384          64\n",
       "  ⋮   │    ⋮           ⋮            ⋮         ⋮        ⋮        ⋮\n",
       " 5811 │      74  4/4            114048     114176   128          52\n",
       " 5812 │      74  4/4            114176     114304   128          50\n",
       " 5813 │      74  4/4            114304     114932   628          52\n",
       " 5814 │      74  4/4            115104     115120   16           45\n",
       " 5815 │      74  4/4            115152     115168   16           41\n",
       " 5816 │      75  4/4            115200     115216   16           35\n",
       " 5817 │      75  4/4            115200     115216   16           49\n",
       "\u001b[36m                                                   5802 rows omitted\u001b[0m"
      ]
     },
     "metadata": {},
     "output_type": "display_data"
    }
   ],
   "source": [
    "df_piece = get_csv_df(csv_file)"
   ]
  },
  {
   "cell_type": "code",
   "execution_count": 19,
   "metadata": {},
   "outputs": [],
   "source": [
    "measures = groupby(df_piece, :Measure)\n",
    "\n",
    "kseq = Any[]\n",
    "n_bar = Int[]\n",
    "unc_seq = Float64[]\n",
    "for m in measures\n",
    "    out = get_distance_to_keys(get_center_effect(Matrix(m)))\n",
    "    push!(n_bar, m[1, :Measure])\n",
    "    push!(kseq, out[1, 1])\n",
    "    push!(unc_seq, round(get_key_ent(out), digits=4))\n",
    "end"
   ]
  },
  {
   "cell_type": "code",
   "execution_count": 23,
   "metadata": {},
   "outputs": [
    {
     "name": "stdout",
     "output_type": "stream",
     "text": [
      "Any[\"b\", \"E\", \"e\", \"C\", \"D\", \"e\", \"e\", \"C\", \"D\", \"E\", \"e\", \"C\", \"D\", \"E\", \"e\", \"C\", \"D\", \"E\", \"E\", \"C\", \"D\", \"E\", \"e\", \"C\", \"D\", \"E\", \"e\", \"C\", \"D\", \"E\", \"e\", \"C\", \"D\", \"E\", \"E\", \"C\", \"D\", \"E\", \"e\", \"C\", \"D\", \"E\", \"e\", \"G\", \"D\", \"E\", \"e\", \"C\", \"D\", \"E\", \"E\", \"C\", \"D\", \"E\", \"e\", \"C\", \"D\", \"E\", \"e\", \"G\", \"D\", \"E\", \"e\", \"G\", \"D\", \"E\", \"e\", \"G\", \"D\", \"E\", \"e\", \"G\", \"D\", \"E\", \"B/Cb\"]"
     ]
    }
   ],
   "source": [
    "print(kseq)"
   ]
  },
  {
   "cell_type": "code",
   "execution_count": 22,
   "metadata": {},
   "outputs": [
    {
     "data": {
      "text/plain": [
       "7×2 Matrix{Any}:\n",
       " \"E\"     21\n",
       " \"D\"     18\n",
       " \"e\"     16\n",
       " \"C\"     13\n",
       " \"G\"      5\n",
       " \"B/Cb\"   1\n",
       " \"b\"      1"
      ]
     },
     "metadata": {},
     "output_type": "display_data"
    }
   ],
   "source": [
    "get_rank_freq(kseq)"
   ]
  },
  {
   "cell_type": "code",
   "execution_count": null,
   "metadata": {},
   "outputs": [],
   "source": []
  }
 ],
 "metadata": {
  "kernelspec": {
   "display_name": "Julia 1.8.0",
   "language": "julia",
   "name": "julia-1.8"
  },
  "language_info": {
   "file_extension": ".jl",
   "mimetype": "application/julia",
   "name": "julia",
   "version": "1.8.0"
  },
  "orig_nbformat": 4
 },
 "nbformat": 4,
 "nbformat_minor": 2
}
